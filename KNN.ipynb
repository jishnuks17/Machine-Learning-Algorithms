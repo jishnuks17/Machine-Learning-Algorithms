{
  "nbformat": 4,
  "nbformat_minor": 0,
  "metadata": {
    "colab": {
      "name": "KNN.ipynb",
      "provenance": [],
      "authorship_tag": "ABX9TyMFr9g/nL9wMgCrHt1VtPpD",
      "include_colab_link": true
    },
    "kernelspec": {
      "name": "python3",
      "display_name": "Python 3"
    },
    "language_info": {
      "name": "python"
    }
  },
  "cells": [
    {
      "cell_type": "markdown",
      "metadata": {
        "id": "view-in-github",
        "colab_type": "text"
      },
      "source": [
        "<a href=\"https://colab.research.google.com/github/jishnuks17/Machine-Learning-Algorithms/blob/main/KNN.ipynb\" target=\"_parent\"><img src=\"https://colab.research.google.com/assets/colab-badge.svg\" alt=\"Open In Colab\"/></a>"
      ]
    },
    {
      "cell_type": "code",
      "execution_count": 3,
      "metadata": {
        "id": "7UYAVyUI8GSr"
      },
      "outputs": [],
      "source": [
        "import pandas as pd\n",
        "import numpy as np\n",
        "import matplotlib.pyplot as plt"
      ]
    },
    {
      "cell_type": "code",
      "source": [
        "diabetes = pd.read_csv('diabetes.csv')"
      ],
      "metadata": {
        "id": "GvwSxVk18iFw"
      },
      "execution_count": 5,
      "outputs": []
    },
    {
      "cell_type": "code",
      "source": [
        "from sklearn.model_selection import train_test_split\n",
        "X_train, X_test, y_train, y_test = train_test_split(diabetes.drop('Outcome',axis=1), \n",
        "                                                    diabetes['Outcome'], test_size=0.30, \n",
        "                                                    random_state=101)"
      ],
      "metadata": {
        "id": "f5KAN6QV9YI7"
      },
      "execution_count": 6,
      "outputs": []
    },
    {
      "cell_type": "code",
      "source": [
        "from sklearn.neighbors import KNeighborsClassifier"
      ],
      "metadata": {
        "id": "yAngz5UH9sLg"
      },
      "execution_count": 7,
      "outputs": []
    },
    {
      "cell_type": "code",
      "source": [
        "knn = KNeighborsClassifier(n_neighbors=5)"
      ],
      "metadata": {
        "id": "k_Y9hVZj-Nmi"
      },
      "execution_count": 8,
      "outputs": []
    },
    {
      "cell_type": "code",
      "source": [
        "knn.fit(X_train,y_train)"
      ],
      "metadata": {
        "colab": {
          "base_uri": "https://localhost:8080/"
        },
        "id": "JHiz0t4K-SeW",
        "outputId": "f571bf11-4e7d-45c6-d3f5-1b077aeed203"
      },
      "execution_count": 9,
      "outputs": [
        {
          "output_type": "execute_result",
          "data": {
            "text/plain": [
              "KNeighborsClassifier()"
            ]
          },
          "metadata": {},
          "execution_count": 9
        }
      ]
    },
    {
      "cell_type": "code",
      "source": [
        "pred = knn.predict(X_test)"
      ],
      "metadata": {
        "id": "wOp9mlS9-fWM"
      },
      "execution_count": 10,
      "outputs": []
    },
    {
      "cell_type": "code",
      "source": [
        "from sklearn.metrics import accuracy_score, confusion_matrix"
      ],
      "metadata": {
        "id": "NTmeFvVA-yiD"
      },
      "execution_count": 11,
      "outputs": []
    },
    {
      "cell_type": "code",
      "source": [
        "print(confusion_matrix(y_test,pred))"
      ],
      "metadata": {
        "colab": {
          "base_uri": "https://localhost:8080/"
        },
        "id": "uBvNJ7fF-3xN",
        "outputId": "0b08f56d-2dd3-4c34-b57c-ee9f80ee269e"
      },
      "execution_count": 12,
      "outputs": [
        {
          "output_type": "stream",
          "name": "stdout",
          "text": [
            "[[128  22]\n",
            " [ 37  44]]\n"
          ]
        }
      ]
    },
    {
      "cell_type": "code",
      "source": [
        "from sklearn.metrics import accuracy_score"
      ],
      "metadata": {
        "id": "ZOEDrd75-6pV"
      },
      "execution_count": 13,
      "outputs": []
    },
    {
      "cell_type": "code",
      "source": [
        "from sklearn.metrics import accuracy_score\n",
        "score=accuracy_score(y_test,pred)\n",
        "print(f'Accuracy: {round(score*100,2)}%')"
      ],
      "metadata": {
        "colab": {
          "base_uri": "https://localhost:8080/"
        },
        "id": "pvHyOMlc--GT",
        "outputId": "46126ca1-1af7-433f-9c5a-9fd050b5c73e"
      },
      "execution_count": 14,
      "outputs": [
        {
          "output_type": "stream",
          "name": "stdout",
          "text": [
            "Accuracy: 74.46%\n"
          ]
        }
      ]
    },
    {
      "cell_type": "code",
      "source": [
        "accuracy = []\n",
        "k=[]\n",
        "# Will take some time\n",
        "for i in range(1,40):\n",
        "    k.append(i)\n",
        "    knn = KNeighborsClassifier(n_neighbors=i)\n",
        "    knn.fit(X_train,y_train)\n",
        "    pred_i = knn.predict(X_test)\n",
        "    score=accuracy_score(y_test,pred_i)\n",
        "    #print(f'Accuracy: {round(score*100,2)}%')\n",
        "    print(score)\n",
        "    accuracy.append(score)\n",
        "#print(accuracy)"
      ],
      "metadata": {
        "colab": {
          "base_uri": "https://localhost:8080/"
        },
        "id": "DGaBS9xz_BTA",
        "outputId": "cf5c4fbf-4486-48c1-9007-a20e16ed89b9"
      },
      "execution_count": 15,
      "outputs": [
        {
          "output_type": "stream",
          "name": "stdout",
          "text": [
            "0.6753246753246753\n",
            "0.70995670995671\n",
            "0.70995670995671\n",
            "0.7316017316017316\n",
            "0.7445887445887446\n",
            "0.7489177489177489\n",
            "0.7489177489177489\n",
            "0.7489177489177489\n",
            "0.7532467532467533\n",
            "0.7316017316017316\n",
            "0.7489177489177489\n",
            "0.7489177489177489\n",
            "0.7402597402597403\n",
            "0.7445887445887446\n",
            "0.7359307359307359\n",
            "0.7359307359307359\n",
            "0.7316017316017316\n",
            "0.7532467532467533\n",
            "0.7489177489177489\n",
            "0.7445887445887446\n",
            "0.7489177489177489\n",
            "0.7445887445887446\n",
            "0.7186147186147186\n",
            "0.7229437229437229\n",
            "0.7186147186147186\n",
            "0.7272727272727273\n",
            "0.7229437229437229\n",
            "0.7316017316017316\n",
            "0.7272727272727273\n",
            "0.7229437229437229\n",
            "0.7445887445887446\n",
            "0.7445887445887446\n",
            "0.7316017316017316\n",
            "0.7532467532467533\n",
            "0.7359307359307359\n",
            "0.7359307359307359\n",
            "0.7272727272727273\n",
            "0.7402597402597403\n",
            "0.7445887445887446\n"
          ]
        }
      ]
    },
    {
      "cell_type": "code",
      "source": [
        "import matplotlib.pyplot as plt\n",
        "import numpy as np\n",
        "plt.plot(k,accuracy)\n",
        "plt.title('Accuracy vs. K Value')\n",
        "plt.xlabel('K Value')\n",
        "plt.ylabel('Accuracy %')"
      ],
      "metadata": {
        "colab": {
          "base_uri": "https://localhost:8080/",
          "height": 312
        },
        "id": "xNcwNEi6_cK4",
        "outputId": "b370a266-7849-4ffc-e948-a8b7bf755f0d"
      },
      "execution_count": 16,
      "outputs": [
        {
          "output_type": "execute_result",
          "data": {
            "text/plain": [
              "Text(0, 0.5, 'Accuracy %')"
            ]
          },
          "metadata": {},
          "execution_count": 16
        },
        {
          "output_type": "display_data",
          "data": {
            "text/plain": [
              "<Figure size 432x288 with 1 Axes>"
            ],
            "image/png": "[encoded data removed]"
          },
          "metadata": {
            "needs_background": "light"
          }
        }
      ]
    },
    {
      "cell_type": "code",
      "source": [
        "knn = KNeighborsClassifier(n_neighbors=5)\n",
        "\n",
        "knn.fit(X_train,y_train)\n",
        "pred = knn.predict(X_test)\n",
        "\n",
        "print('WITH K=5')\n",
        "print('\\n')\n",
        "print(confusion_matrix(y_test,pred))\n",
        "print('\\n')\n",
        "#print(classification_report(y_test,pred))\n",
        "\n",
        "from sklearn.metrics import accuracy_score\n",
        "score=accuracy_score(y_test,pred)\n",
        "print(f'Accuracy: {round(score*100,2)}%')"
      ],
      "metadata": {
        "id": "a7oXFfb5_hUF",
        "outputId": "77165cd3-4bcc-4490-89d8-785278ac4708",
        "colab": {
          "base_uri": "https://localhost:8080/"
        }
      },
      "execution_count": 17,
      "outputs": [
        {
          "output_type": "stream",
          "name": "stdout",
          "text": [
            "WITH K=5\n",
            "\n",
            "\n",
            "[[128  22]\n",
            " [ 37  44]]\n",
            "\n",
            "\n",
            "Accuracy: 74.46%\n"
          ]
        }
      ]
    },
    {
      "cell_type": "code",
      "source": [
        "knn = KNeighborsClassifier(n_neighbors=4)\n",
        "\n",
        "knn.fit(X_train,y_train)\n",
        "pred = knn.predict(X_test)\n",
        "\n",
        "print('WITH K=5')\n",
        "print('\\n')\n",
        "print(confusion_matrix(y_test,pred))\n",
        "print('\\n')\n",
        "#print(classification_report(y_test,pred))\n",
        "\n",
        "from sklearn.metrics import accuracy_score\n",
        "score=accuracy_score(y_test,pred)\n",
        "print(f'Accuracy: {round(score*100,2)}%')"
      ],
      "metadata": {
        "colab": {
          "base_uri": "https://localhost:8080/"
        },
        "id": "FMg0veJAnOcv",
        "outputId": "93cd86b4-37f6-49f0-bd89-852b4204dfb9"
      },
      "execution_count": 20,
      "outputs": [
        {
          "output_type": "stream",
          "name": "stdout",
          "text": [
            "WITH K=5\n",
            "\n",
            "\n",
            "[[136  14]\n",
            " [ 48  33]]\n",
            "\n",
            "\n",
            "Accuracy: 73.16%\n"
          ]
        }
      ]
    },
    {
      "cell_type": "code",
      "source": [
        "knn = KNeighborsClassifier(n_neighbors=6)\n",
        "\n",
        "knn.fit(X_train,y_train)\n",
        "pred = knn.predict(X_test)\n",
        "\n",
        "print('WITH K=5')\n",
        "print('\\n')\n",
        "print(confusion_matrix(y_test,pred))\n",
        "print('\\n')\n",
        "#print(classification_report(y_test,pred))\n",
        "\n",
        "from sklearn.metrics import accuracy_score\n",
        "score=accuracy_score(y_test,pred)\n",
        "print(f'Accuracy: {round(score*100,2)}%')"
      ],
      "metadata": {
        "colab": {
          "base_uri": "https://localhost:8080/"
        },
        "id": "0fGedEOyn21x",
        "outputId": "99ac45bd-d894-444a-e9e3-af7b0e2b3fc7"
      },
      "execution_count": 23,
      "outputs": [
        {
          "output_type": "stream",
          "name": "stdout",
          "text": [
            "WITH K=5\n",
            "\n",
            "\n",
            "[[133  17]\n",
            " [ 41  40]]\n",
            "\n",
            "\n",
            "Accuracy: 74.89%\n"
          ]
        }
      ]
    },
    {
      "cell_type": "code",
      "source": [
        "knn = KNeighborsClassifier(n_neighbors=7)\n",
        "\n",
        "knn.fit(X_train,y_train)\n",
        "pred = knn.predict(X_test)\n",
        "\n",
        "print('WITH K=5')\n",
        "print('\\n')\n",
        "print(confusion_matrix(y_test,pred))\n",
        "print('\\n')\n",
        "#print(classification_report(y_test,pred))\n",
        "\n",
        "from sklearn.metrics import accuracy_score\n",
        "score=accuracy_score(y_test,pred)\n",
        "print(f'Accuracy: {round(score*100,2)}%')"
      ],
      "metadata": {
        "colab": {
          "base_uri": "https://localhost:8080/"
        },
        "id": "DgDh_OUYn8pL",
        "outputId": "47f24bc7-1c5c-4307-b612-17febba9e6bf"
      },
      "execution_count": 24,
      "outputs": [
        {
          "output_type": "stream",
          "name": "stdout",
          "text": [
            "WITH K=5\n",
            "\n",
            "\n",
            "[[127  23]\n",
            " [ 35  46]]\n",
            "\n",
            "\n",
            "Accuracy: 74.89%\n"
          ]
        }
      ]
    }
  ]
}