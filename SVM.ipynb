{
  "nbformat": 4,
  "nbformat_minor": 0,
  "metadata": {
    "colab": {
      "name": "SVM.ipynb",
      "provenance": [],
      "authorship_tag": "ABX9TyNum3+WzTneE0BxrONh7SH+",
      "include_colab_link": true
    },
    "kernelspec": {
      "name": "python3",
      "display_name": "Python 3"
    },
    "language_info": {
      "name": "python"
    }
  },
  "cells": [
    {
      "cell_type": "markdown",
      "metadata": {
        "id": "view-in-github",
        "colab_type": "text"
      },
      "source": [
        "<a href=\"https://colab.research.google.com/github/jishnuks17/Machine-Learning-Algorithms/blob/main/SVM.ipynb\" target=\"_parent\"><img src=\"https://colab.research.google.com/assets/colab-badge.svg\" alt=\"Open In Colab\"/></a>"
      ]
    },
    {
      "cell_type": "code",
      "execution_count": 4,
      "metadata": {
        "id": "31THRIZoAaPn"
      },
      "outputs": [],
      "source": [
        "import pandas as pd\n",
        "import numpy as np\n",
        "import matplotlib.pyplot as plt"
      ]
    },
    {
      "cell_type": "code",
      "source": [
        "diabetes = pd.read_csv('diabetes.csv')\n",
        "from sklearn.model_selection import train_test_split\n",
        "X_train, X_test, y_train, y_test = train_test_split(diabetes.drop('Outcome',axis=1), \n",
        "                                                    diabetes['Outcome'], test_size=0.30, \n",
        "                                                    random_state=101)"
      ],
      "metadata": {
        "id": "gbk_2xlQA_8B"
      },
      "execution_count": 6,
      "outputs": []
    },
    {
      "cell_type": "code",
      "source": [
        "from sklearn.svm import SVC"
      ],
      "metadata": {
        "id": "n9bOo7xFBh9m"
      },
      "execution_count": 7,
      "outputs": []
    },
    {
      "cell_type": "code",
      "source": [
        "svc_classifier=SVC(kernel='linear')\n",
        "svc_classifier.fit(X_train,y_train)"
      ],
      "metadata": {
        "id": "J51pZ4zJBiJJ",
        "colab": {
          "base_uri": "https://localhost:8080/"
        },
        "outputId": "127c06db-83e5-44d8-a64a-9fda0ee3cc12"
      },
      "execution_count": 11,
      "outputs": [
        {
          "output_type": "execute_result",
          "data": {
            "text/plain": [
              "SVC(kernel='linear')"
            ]
          },
          "metadata": {},
          "execution_count": 11
        }
      ]
    },
    {
      "cell_type": "code",
      "source": [
        "predictions=svc_classifier.predict(X_test)"
      ],
      "metadata": {
        "id": "AFEdnZMYsExE"
      },
      "execution_count": 12,
      "outputs": []
    },
    {
      "cell_type": "code",
      "source": [
        "from sklearn.metrics import classification_report, confusion_matrix\n",
        "\n",
        "print(confusion_matrix(y_test,predictions))\n",
        "\n",
        "from sklearn.metrics import accuracy_score\n",
        "\n",
        "accuracy_score(y_test, predictions)"
      ],
      "metadata": {
        "colab": {
          "base_uri": "https://localhost:8080/"
        },
        "id": "TNPmQHGasRIJ",
        "outputId": "3c39fce9-9b0e-4f21-fe31-fb8e3ae3a8b8"
      },
      "execution_count": 13,
      "outputs": [
        {
          "output_type": "stream",
          "name": "stdout",
          "text": [
            "[[130  20]\n",
            " [ 34  47]]\n"
          ]
        },
        {
          "output_type": "execute_result",
          "data": {
            "text/plain": [
              "0.7662337662337663"
            ]
          },
          "metadata": {},
          "execution_count": 13
        }
      ]
    }
  ]
}